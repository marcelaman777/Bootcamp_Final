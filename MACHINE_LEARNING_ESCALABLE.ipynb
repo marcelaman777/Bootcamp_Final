{
  "nbformat": 4,
  "nbformat_minor": 0,
  "metadata": {
    "colab": {
      "provenance": [],
      "authorship_tag": "ABX9TyMGAI8rLt6iWSFJLhkTo/Fp",
      "include_colab_link": true
    },
    "kernelspec": {
      "name": "python3",
      "display_name": "Python 3"
    },
    "language_info": {
      "name": "python"
    }
  },
  "cells": [
    {
      "cell_type": "markdown",
      "metadata": {
        "id": "view-in-github",
        "colab_type": "text"
      },
      "source": [
        "<a href=\"https://colab.research.google.com/github/marcelaman777/Bootcamp_Final/blob/main/MACHINE_LEARNING_ESCALABLE.ipynb\" target=\"_parent\"><img src=\"https://colab.research.google.com/assets/colab-badge.svg\" alt=\"Open In Colab\"/></a>"
      ]
    },
    {
      "cell_type": "markdown",
      "source": [
        "# MACHINE LEARNING ESCALABLE"
      ],
      "metadata": {
        "id": "jfnz4tqJv31g"
      }
    },
    {
      "cell_type": "markdown",
      "source": [
        "Una tienda de cosmética quiere desarrollar un sistema inteligente que clasifique productos de skin  care en diferentes categorías según sus características. La clasificación ayudará a recomendar  productos adecuados a los clientes según su tipo de piel.\n",
        "\n",
        "La tienda proporciona un dataset con información de productos, incluyendo:\n",
        "- Ingredientes clave (como ácido hialurónico, retinol, vitamina C, etc.)\n",
        "-  Nivel de hidratación\n",
        "-  Nivel de absorción\n",
        "-  Factor de protección solar (SPF)\n",
        "-  Tipo de piel recomendado (seco, graso, mixto o sensible)\n",
        "\n",
        "El objetivo es entrenar un modelo de clasificación con MLlib que prediga el tipo de piel recomendado  para cada producto.\n",
        "\n",
        "Importante:\n",
        "Se debe convertir Tipo de Piel en valores numéricos:\n",
        "-  Seco → 0\n",
        "-  Graso → 1\n",
        "-  Mixto → 2\n",
        "- Sensible → 3"
      ],
      "metadata": {
        "id": "H-W8dgMrv--j"
      }
    },
    {
      "cell_type": "code",
      "execution_count": null,
      "metadata": {
        "id": "X8kZkdrbvDh3",
        "colab": {
          "base_uri": "https://localhost:8080/"
        },
        "outputId": "07b36431-071d-4a8c-a733-6e085360dcaa"
      },
      "outputs": [
        {
          "output_type": "stream",
          "name": "stdout",
          "text": [
            "Mounted at /content/drive\n"
          ]
        }
      ],
      "source": [
        "from google.colab import drive\n",
        "drive.mount('/content/drive')\n",
        "\n",
        "ruta_archivos = '/content/drive/MyDrive/bootcamp_ciencia_de_datos/evaluaciones/archivos_spark/'"
      ]
    },
    {
      "cell_type": "markdown",
      "source": [
        "##**1. Carga y exploración de datos**"
      ],
      "metadata": {
        "id": "frS8rWsuwSzc"
      }
    },
    {
      "cell_type": "code",
      "source": [
        "from pyspark.sql import SparkSession\n",
        "from pyspark.sql.functions import *"
      ],
      "metadata": {
        "id": "HzQSPSqtwWw_"
      },
      "execution_count": null,
      "outputs": []
    },
    {
      "cell_type": "code",
      "source": [
        "ss = SparkSession.builder.appName('skincare').getOrCreate()\n",
        "ss"
      ],
      "metadata": {
        "id": "QDkcv4kWwa3K",
        "colab": {
          "base_uri": "https://localhost:8080/",
          "height": 219
        },
        "outputId": "d3bd1661-0d17-41d5-ef92-76b5eecb5fa7"
      },
      "execution_count": null,
      "outputs": [
        {
          "output_type": "execute_result",
          "data": {
            "text/plain": [
              "<pyspark.sql.session.SparkSession at 0x7fe36dce04d0>"
            ],
            "text/html": [
              "\n",
              "            <div>\n",
              "                <p><b>SparkSession - in-memory</b></p>\n",
              "                \n",
              "        <div>\n",
              "            <p><b>SparkContext</b></p>\n",
              "\n",
              "            <p><a href=\"http://6f27013a873c:4040\">Spark UI</a></p>\n",
              "\n",
              "            <dl>\n",
              "              <dt>Version</dt>\n",
              "                <dd><code>v3.5.1</code></dd>\n",
              "              <dt>Master</dt>\n",
              "                <dd><code>local[*]</code></dd>\n",
              "              <dt>AppName</dt>\n",
              "                <dd><code>skincare</code></dd>\n",
              "            </dl>\n",
              "        </div>\n",
              "        \n",
              "            </div>\n",
              "        "
            ]
          },
          "metadata": {},
          "execution_count": 3
        }
      ]
    },
    {
      "cell_type": "code",
      "source": [
        "df = ss.read.csv(ruta_archivos + 'skincare_products.csv', header=True, inferSchema=True)\n",
        "df.show(truncate=False)"
      ],
      "metadata": {
        "id": "yLRcsHNFwd0x",
        "colab": {
          "base_uri": "https://localhost:8080/"
        },
        "outputId": "a027db2f-ddd5-4f3d-ca3c-7d2bc47ad352"
      },
      "execution_count": null,
      "outputs": [
        {
          "output_type": "stream",
          "name": "stdout",
          "text": [
            "+--------------------+-----------+---------+---+------------+\n",
            "|Ingredientes        |Hidratación|Absorción|SPF|Tipo de Piel|\n",
            "+--------------------+-----------+---------+---+------------+\n",
            "|Ácido Hialurónico   |Alto       |Medio    |0  |Seco        |\n",
            "|Retinol             |Bajo       |Alto     |0  |Graso       |\n",
            "|Vitamina C          |Medio      |Medio    |30 |Mixto       |\n",
            "|Aloe Vera           |Alto       |Bajo     |15 |Sensible    |\n",
            "|Niacinamida         |Medio      |Medio    |0  |Mixto       |\n",
            "|Ceramidas           |Alto       |Bajo     |0  |Seco        |\n",
            "|Ácido Salicílico    |Bajo       |Alto     |0  |Graso       |\n",
            "|Centella Asiática   |Medio      |Medio    |20 |Sensible    |\n",
            "|Extracto de Té Verde|Medio      |Alto     |0  |Mixto       |\n",
            "|Manteca de Karité   |Alto       |Bajo     |0  |Seco        |\n",
            "|Extracto de Regaliz |Medio      |Medio    |15 |Sensible    |\n",
            "|Vitamina E          |Alto       |Medio    |25 |Seco        |\n",
            "|Bakuchiol           |Bajo       |Medio    |0  |Mixto       |\n",
            "|Ácido Kójico        |Medio      |Alto     |0  |Graso       |\n",
            "|Beta-Glucanos       |Alto       |Bajo     |10 |Sensible    |\n",
            "|Resveratrol         |Medio      |Medio    |20 |Mixto       |\n",
            "|Péptidos            |Bajo       |Alto     |0  |Graso       |\n",
            "|Escualano           |Alto       |Medio    |0  |Seco        |\n",
            "|Arbutina            |Medio      |Alto     |0  |Mixto       |\n",
            "|Urea                |Alto       |Bajo     |15 |Sensible    |\n",
            "+--------------------+-----------+---------+---+------------+\n",
            "\n"
          ]
        }
      ]
    },
    {
      "cell_type": "code",
      "source": [
        "df.printSchema()"
      ],
      "metadata": {
        "id": "B_l6731gwx5z",
        "colab": {
          "base_uri": "https://localhost:8080/"
        },
        "outputId": "fb97cc12-f866-40b3-f36c-f596e6fb34c6"
      },
      "execution_count": null,
      "outputs": [
        {
          "output_type": "stream",
          "name": "stdout",
          "text": [
            "root\n",
            " |-- Ingredientes: string (nullable = true)\n",
            " |-- Hidratación: string (nullable = true)\n",
            " |-- Absorción: string (nullable = true)\n",
            " |-- SPF: integer (nullable = true)\n",
            " |-- Tipo de Piel: string (nullable = true)\n",
            "\n"
          ]
        }
      ]
    },
    {
      "cell_type": "code",
      "source": [
        "col_num = [c[0] for c in df.dtypes if c[1] in ['int', 'bigint', 'double', 'float']]\n",
        "df.select(col_num).describe().show(truncate=False)"
      ],
      "metadata": {
        "id": "_Rv1xxOGxRU-",
        "colab": {
          "base_uri": "https://localhost:8080/"
        },
        "outputId": "ef40fde2-8caa-4ad8-9471-c519b66b0ec6"
      },
      "execution_count": null,
      "outputs": [
        {
          "output_type": "stream",
          "name": "stdout",
          "text": [
            "+-------+-----------------+\n",
            "|summary|SPF              |\n",
            "+-------+-----------------+\n",
            "|count  |20               |\n",
            "|mean   |7.5              |\n",
            "|stddev |10.19545822516343|\n",
            "|min    |0                |\n",
            "|max    |30               |\n",
            "+-------+-----------------+\n",
            "\n"
          ]
        }
      ]
    },
    {
      "cell_type": "markdown",
      "source": [
        "##**2. Preprocesamiento de datos**"
      ],
      "metadata": {
        "id": "Sdxx-0ioy0A7"
      }
    },
    {
      "cell_type": "code",
      "source": [
        "df = (\n",
        "    df.withColumn(\n",
        "        \"Tipo de Piel\",\n",
        "        when(col(\"Tipo de Piel\")=='Seco', 0)\n",
        "        .when(col(\"Tipo de Piel\")=='Graso', 1)\n",
        "        .when(col(\"Tipo de Piel\")=='Mixto', 2)\n",
        "        .otherwise(3)\n",
        "    )\n",
        ")\n",
        "\n",
        "df = (\n",
        "    df.withColumn(\n",
        "        \"Hidratación\",\n",
        "        when(col(\"Hidratación\")=='Bajo', 0)\n",
        "        .when(col(\"Hidratación\")=='Medio', 1)\n",
        "        .otherwise(2)\n",
        "    )\n",
        ")\n",
        "\n",
        "df = (\n",
        "    df.withColumn(\n",
        "        \"Absorción\",\n",
        "        when(col(\"Absorción\")=='Bajo', 0)\n",
        "        .when(col(\"Absorción\")=='Medio', 1)\n",
        "        .otherwise(2)\n",
        "    )\n",
        ")\n",
        "\n",
        "df.show(truncate=False)"
      ],
      "metadata": {
        "id": "M2dbd15NxWx-",
        "colab": {
          "base_uri": "https://localhost:8080/"
        },
        "outputId": "d205d7c4-8807-4b4f-b8f9-329ab21822a7"
      },
      "execution_count": null,
      "outputs": [
        {
          "output_type": "stream",
          "name": "stdout",
          "text": [
            "+--------------------+-----------+---------+---+------------+\n",
            "|Ingredientes        |Hidratación|Absorción|SPF|Tipo de Piel|\n",
            "+--------------------+-----------+---------+---+------------+\n",
            "|Ácido Hialurónico   |2          |1        |0  |0           |\n",
            "|Retinol             |0          |2        |0  |1           |\n",
            "|Vitamina C          |1          |1        |30 |2           |\n",
            "|Aloe Vera           |2          |0        |15 |3           |\n",
            "|Niacinamida         |1          |1        |0  |2           |\n",
            "|Ceramidas           |2          |0        |0  |0           |\n",
            "|Ácido Salicílico    |0          |2        |0  |1           |\n",
            "|Centella Asiática   |1          |1        |20 |3           |\n",
            "|Extracto de Té Verde|1          |2        |0  |2           |\n",
            "|Manteca de Karité   |2          |0        |0  |0           |\n",
            "|Extracto de Regaliz |1          |1        |15 |3           |\n",
            "|Vitamina E          |2          |1        |25 |0           |\n",
            "|Bakuchiol           |0          |1        |0  |2           |\n",
            "|Ácido Kójico        |1          |2        |0  |1           |\n",
            "|Beta-Glucanos       |2          |0        |10 |3           |\n",
            "|Resveratrol         |1          |1        |20 |2           |\n",
            "|Péptidos            |0          |2        |0  |1           |\n",
            "|Escualano           |2          |1        |0  |0           |\n",
            "|Arbutina            |1          |2        |0  |2           |\n",
            "|Urea                |2          |0        |15 |3           |\n",
            "+--------------------+-----------+---------+---+------------+\n",
            "\n"
          ]
        }
      ]
    },
    {
      "cell_type": "code",
      "source": [
        "from pyspark.ml.feature import VectorAssembler\n",
        "from pyspark.ml.classification import LogisticRegression\n",
        "from pyspark.ml.evaluation import MulticlassClassificationEvaluator\n",
        "from pyspark.ml.stat import Correlation"
      ],
      "metadata": {
        "id": "WTlf2ykoI9xB"
      },
      "execution_count": null,
      "outputs": []
    },
    {
      "cell_type": "code",
      "source": [
        "assembler = VectorAssembler(inputCols=['Hidratación', 'Absorción', 'SPF'], outputCol='atributos')\n",
        "df_train = assembler.transform(df).select('atributos', 'Tipo de Piel')\n",
        "\n",
        "df_train.show(truncate=False)"
      ],
      "metadata": {
        "id": "P5fvR0GzJ22d",
        "colab": {
          "base_uri": "https://localhost:8080/"
        },
        "outputId": "45e4ab13-b608-40e3-ba78-351f7e8c1d6c"
      },
      "execution_count": null,
      "outputs": [
        {
          "output_type": "stream",
          "name": "stdout",
          "text": [
            "+--------------+------------+\n",
            "|atributos     |Tipo de Piel|\n",
            "+--------------+------------+\n",
            "|[2.0,1.0,0.0] |0           |\n",
            "|[0.0,2.0,0.0] |1           |\n",
            "|[1.0,1.0,30.0]|2           |\n",
            "|[2.0,0.0,15.0]|3           |\n",
            "|[1.0,1.0,0.0] |2           |\n",
            "|[2.0,0.0,0.0] |0           |\n",
            "|[0.0,2.0,0.0] |1           |\n",
            "|[1.0,1.0,20.0]|3           |\n",
            "|[1.0,2.0,0.0] |2           |\n",
            "|[2.0,0.0,0.0] |0           |\n",
            "|[1.0,1.0,15.0]|3           |\n",
            "|[2.0,1.0,25.0]|0           |\n",
            "|[0.0,1.0,0.0] |2           |\n",
            "|[1.0,2.0,0.0] |1           |\n",
            "|[2.0,0.0,10.0]|3           |\n",
            "|[1.0,1.0,20.0]|2           |\n",
            "|[0.0,2.0,0.0] |1           |\n",
            "|[2.0,1.0,0.0] |0           |\n",
            "|[1.0,2.0,0.0] |2           |\n",
            "|[2.0,0.0,15.0]|3           |\n",
            "+--------------+------------+\n",
            "\n"
          ]
        }
      ]
    },
    {
      "cell_type": "markdown",
      "source": [
        "##**3. División de datos y entrenamiento del modelo**"
      ],
      "metadata": {
        "id": "utJBxNpgLVj-"
      }
    },
    {
      "cell_type": "code",
      "source": [
        "# train test split\n",
        "train, test = df_train.randomSplit([0.8, 0.2], seed=42)\n",
        "\n",
        "print(f'Vistazo al train set:')\n",
        "train.show(truncate=False)\n",
        "\n",
        "print(f'\\nVistazo al test set:')\n",
        "test.show(truncate=False)"
      ],
      "metadata": {
        "id": "OzNG1RE8K_Zi",
        "colab": {
          "base_uri": "https://localhost:8080/"
        },
        "outputId": "9a21801d-0cea-4482-bc4c-14e4f5e8bc2e"
      },
      "execution_count": null,
      "outputs": [
        {
          "output_type": "stream",
          "name": "stdout",
          "text": [
            "Vistazo al train set:\n",
            "+--------------+------------+\n",
            "|atributos     |Tipo de Piel|\n",
            "+--------------+------------+\n",
            "|[0.0,1.0,0.0] |2           |\n",
            "|[0.0,2.0,0.0] |1           |\n",
            "|[0.0,2.0,0.0] |1           |\n",
            "|[1.0,1.0,0.0] |2           |\n",
            "|[1.0,1.0,15.0]|3           |\n",
            "|[1.0,1.0,20.0]|3           |\n",
            "|[1.0,2.0,0.0] |1           |\n",
            "|[1.0,2.0,0.0] |2           |\n",
            "|[1.0,2.0,0.0] |2           |\n",
            "|[2.0,0.0,0.0] |0           |\n",
            "|[2.0,0.0,10.0]|3           |\n",
            "|[2.0,0.0,15.0]|3           |\n",
            "|[2.0,0.0,15.0]|3           |\n",
            "|[2.0,1.0,0.0] |0           |\n",
            "|[2.0,1.0,0.0] |0           |\n",
            "+--------------+------------+\n",
            "\n",
            "\n",
            "Vistazo al test set:\n",
            "+--------------+------------+\n",
            "|atributos     |Tipo de Piel|\n",
            "+--------------+------------+\n",
            "|[0.0,2.0,0.0] |1           |\n",
            "|[1.0,1.0,20.0]|2           |\n",
            "|[1.0,1.0,30.0]|2           |\n",
            "|[2.0,0.0,0.0] |0           |\n",
            "|[2.0,1.0,25.0]|0           |\n",
            "+--------------+------------+\n",
            "\n"
          ]
        }
      ]
    },
    {
      "cell_type": "code",
      "source": [
        "from pyspark.ml.classification import DecisionTreeClassifier\n",
        "\n",
        "dt = DecisionTreeClassifier(featuresCol='atributos', labelCol='Tipo de Piel', seed=42, maxDepth=3, maxBins=64)\n",
        "dt_model = dt.fit(train)"
      ],
      "metadata": {
        "id": "SvnaUSZiLfDC"
      },
      "execution_count": null,
      "outputs": []
    },
    {
      "cell_type": "markdown",
      "source": [
        "##**4. Predicción y evaluación**"
      ],
      "metadata": {
        "id": "I3-GTBkkMi-P"
      }
    },
    {
      "cell_type": "code",
      "source": [
        "# predicciones para el train y test sets\n",
        "pred_train = dt_model.transform(train)\n",
        "pred_test  = dt_model.transform(test)\n",
        "\n",
        "print(\"\\nPredicción para el test set:\")\n",
        "pred_test.select(\"Tipo de Piel\", \"prediction\", \"probability\").show(truncate=False)"
      ],
      "metadata": {
        "id": "8VljXa7WL00W",
        "colab": {
          "base_uri": "https://localhost:8080/"
        },
        "outputId": "b687c0a8-db95-42aa-e774-a03572e0a878"
      },
      "execution_count": null,
      "outputs": [
        {
          "output_type": "stream",
          "name": "stdout",
          "text": [
            "\n",
            "Predicción para el test set:\n",
            "+------------+----------+-----------------+\n",
            "|Tipo de Piel|prediction|probability      |\n",
            "+------------+----------+-----------------+\n",
            "|1           |1.0       |[0.0,0.6,0.4,0.0]|\n",
            "|2           |3.0       |[0.0,0.0,0.0,1.0]|\n",
            "|2           |3.0       |[0.0,0.0,0.0,1.0]|\n",
            "|0           |0.0       |[1.0,0.0,0.0,0.0]|\n",
            "|0           |3.0       |[0.0,0.0,0.0,1.0]|\n",
            "+------------+----------+-----------------+\n",
            "\n"
          ]
        }
      ]
    },
    {
      "cell_type": "code",
      "source": [
        "# evaluar modelo con accuracy\n",
        "evaluator = MulticlassClassificationEvaluator(labelCol=\"Tipo de Piel\", predictionCol=\"prediction\", metricName=\"accuracy\")\n",
        "accuracy_train = evaluator.evaluate(pred_train)\n",
        "accuracy_test = evaluator.evaluate(pred_test)\n",
        "\n",
        "print(f\"Accuracy para el train set: {accuracy_train:.2%}\")\n",
        "print(f\"Accuracy para el test set : {accuracy_test:.2%}\")"
      ],
      "metadata": {
        "id": "nfEjMBHIMhar",
        "colab": {
          "base_uri": "https://localhost:8080/"
        },
        "outputId": "2ccdb1ed-8e23-42d3-b692-006060410739"
      },
      "execution_count": null,
      "outputs": [
        {
          "output_type": "stream",
          "name": "stdout",
          "text": [
            "Accuracy para el train set: 86.67%\n",
            "Accuracy para el test set : 40.00%\n"
          ]
        }
      ]
    },
    {
      "cell_type": "markdown",
      "source": [
        "##**5. Análisis de resultados y mejoras**"
      ],
      "metadata": {
        "id": "VBkRXulZNVp5"
      }
    },
    {
      "cell_type": "markdown",
      "source": [
        "Modelo subajustado, se propone efectuar validación cruzada con ajuste de hiperparámetros."
      ],
      "metadata": {
        "id": "UtWgRC0gwvLV"
      }
    },
    {
      "cell_type": "code",
      "source": [],
      "metadata": {
        "id": "OaJJL4U17vrq"
      },
      "execution_count": null,
      "outputs": []
    }
  ]
}